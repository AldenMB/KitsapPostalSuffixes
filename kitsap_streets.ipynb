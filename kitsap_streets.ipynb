{
 "cells": [
  {
   "cell_type": "markdown",
   "id": "6193b227-37fd-414b-9be1-17f202e0bd34",
   "metadata": {},
   "source": [
    "# Kitsap Street List\n",
    "\n",
    "## Goal \n",
    "\n",
    "Produce a list of every street suffix which is used in Kitsap county, and the standaard USPS abbreviation for those suffixes. Present that list in a way which makes it easy for food bank volunteers to enter data in a standard way during intake.\n",
    "\n",
    "## Sources\n",
    "\n",
    "Name                 | description                                                              | filename               | source                 | URL \n",
    "---------------------|--------------------------------------------------------------------------|------------------------|------------------------|-------------------------------------------\n",
    "List of addresses    | a list of every address in Kitsap county                                 | Property_addresses.txt | Kitsap County Assessor | https://www.kitsap.gov/assessor/Documents/Property_addresses.txt\n",
    "Suffix abbreviations | a table indicating the USPS preferred abbreviations for address suffixes | suffix.htm             | USPS                   | https://pe.usps.com/text/pub28/28apc_002.htm"
   ]
  },
  {
   "cell_type": "markdown",
   "id": "a0508f0d-d6e5-4dbe-89b7-38253e96dd79",
   "metadata": {},
   "source": [
    "## Getting the suffixes\n",
    "\n",
    "Notice that this table calls the suffix an \"identifier\". I will continue to use the USPS terminology."
   ]
  },
  {
   "cell_type": "code",
   "execution_count": 1,
   "id": "750730dc-1d4b-4c25-83d1-74bba815f021",
   "metadata": {
    "tags": []
   },
   "outputs": [
    {
     "data": {
      "text/html": [
       "<div>\n",
       "<style scoped>\n",
       "    .dataframe tbody tr th:only-of-type {\n",
       "        vertical-align: middle;\n",
       "    }\n",
       "\n",
       "    .dataframe tbody tr th {\n",
       "        vertical-align: top;\n",
       "    }\n",
       "\n",
       "    .dataframe thead th {\n",
       "        text-align: right;\n",
       "    }\n",
       "</style>\n",
       "<table border=\"1\" class=\"dataframe\">\n",
       "  <thead>\n",
       "    <tr style=\"text-align: right;\">\n",
       "      <th></th>\n",
       "      <th>ID</th>\n",
       "      <th>rp_acct_id</th>\n",
       "      <th>st_no</th>\n",
       "      <th>prefix</th>\n",
       "      <th>street_name</th>\n",
       "      <th>identifier</th>\n",
       "      <th>suffix</th>\n",
       "      <th>suite_unit</th>\n",
       "      <th>city</th>\n",
       "      <th>state</th>\n",
       "      <th>zip_code</th>\n",
       "      <th>street_addr</th>\n",
       "    </tr>\n",
       "  </thead>\n",
       "  <tbody>\n",
       "    <tr>\n",
       "      <th>0</th>\n",
       "      <td>1</td>\n",
       "      <td>2327807</td>\n",
       "      <td>8184.0</td>\n",
       "      <td>NE</td>\n",
       "      <td>STATE HWY 104</td>\n",
       "      <td>NaN</td>\n",
       "      <td>NaN</td>\n",
       "      <td>NaN</td>\n",
       "      <td>KINGSTON</td>\n",
       "      <td>WA</td>\n",
       "      <td>98346.0</td>\n",
       "      <td>8184 NE STATE HWY 104</td>\n",
       "    </tr>\n",
       "    <tr>\n",
       "      <th>1</th>\n",
       "      <td>2</td>\n",
       "      <td>1578939</td>\n",
       "      <td>5811.0</td>\n",
       "      <td>NE</td>\n",
       "      <td>TIMBERLAND</td>\n",
       "      <td>DR</td>\n",
       "      <td>NaN</td>\n",
       "      <td>NaN</td>\n",
       "      <td>KINGSTON</td>\n",
       "      <td>WA</td>\n",
       "      <td>98346.0</td>\n",
       "      <td>5811 NE TIMBERLAND DR</td>\n",
       "    </tr>\n",
       "    <tr>\n",
       "      <th>2</th>\n",
       "      <td>3</td>\n",
       "      <td>1568401</td>\n",
       "      <td>36833.0</td>\n",
       "      <td>NaN</td>\n",
       "      <td>PINE</td>\n",
       "      <td>PL</td>\n",
       "      <td>NE</td>\n",
       "      <td>NaN</td>\n",
       "      <td>HANSVILLE</td>\n",
       "      <td>WA</td>\n",
       "      <td>98340.0</td>\n",
       "      <td>36833 PINE PL NE</td>\n",
       "    </tr>\n",
       "    <tr>\n",
       "      <th>3</th>\n",
       "      <td>4</td>\n",
       "      <td>1566306</td>\n",
       "      <td>36908.0</td>\n",
       "      <td>NaN</td>\n",
       "      <td>ASPEN</td>\n",
       "      <td>WAY</td>\n",
       "      <td>NE</td>\n",
       "      <td>NaN</td>\n",
       "      <td>HANSVILLE</td>\n",
       "      <td>WA</td>\n",
       "      <td>98340.0</td>\n",
       "      <td>36908 ASPEN WAY NE</td>\n",
       "    </tr>\n",
       "    <tr>\n",
       "      <th>4</th>\n",
       "      <td>5</td>\n",
       "      <td>1567296</td>\n",
       "      <td>5933.0</td>\n",
       "      <td>NE</td>\n",
       "      <td>SPRUCE</td>\n",
       "      <td>DR</td>\n",
       "      <td>NaN</td>\n",
       "      <td>NaN</td>\n",
       "      <td>HANSVILLE</td>\n",
       "      <td>WA</td>\n",
       "      <td>98340.0</td>\n",
       "      <td>5933 NE SPRUCE DR</td>\n",
       "    </tr>\n",
       "  </tbody>\n",
       "</table>\n",
       "</div>"
      ],
      "text/plain": [
       "   ID  rp_acct_id    st_no prefix    street_name identifier suffix suite_unit  \\\n",
       "0   1     2327807   8184.0     NE  STATE HWY 104        NaN    NaN        NaN   \n",
       "1   2     1578939   5811.0     NE     TIMBERLAND         DR    NaN        NaN   \n",
       "2   3     1568401  36833.0    NaN           PINE         PL     NE        NaN   \n",
       "3   4     1566306  36908.0    NaN          ASPEN        WAY     NE        NaN   \n",
       "4   5     1567296   5933.0     NE         SPRUCE         DR    NaN        NaN   \n",
       "\n",
       "        city state  zip_code            street_addr  \n",
       "0   KINGSTON    WA   98346.0  8184 NE STATE HWY 104  \n",
       "1   KINGSTON    WA   98346.0  5811 NE TIMBERLAND DR  \n",
       "2  HANSVILLE    WA   98340.0       36833 PINE PL NE  \n",
       "3  HANSVILLE    WA   98340.0     36908 ASPEN WAY NE  \n",
       "4  HANSVILLE    WA   98340.0      5933 NE SPRUCE DR  "
      ]
     },
     "execution_count": 1,
     "metadata": {},
     "output_type": "execute_result"
    }
   ],
   "source": [
    "import warnings\n",
    "from bs4 import BeautifulSoup\n",
    "import pandas as pd\n",
    "import numpy as np\n",
    "\n",
    "addresses = pd.read_csv('Property_addresses.txt', sep='\\t')\n",
    "addresses.head()"
   ]
  },
  {
   "cell_type": "code",
   "execution_count": 2,
   "id": "01385848-0943-445e-90e0-f3c4d639c4ba",
   "metadata": {},
   "outputs": [
    {
     "name": "stdout",
     "output_type": "stream",
     "text": [
      "{'TRL', 'LOOP', 'RUN', 'TER', 'CV', 'RD', 'HWY', 'BLF', 'PKWY', 'VW', 'HL', 'AVE', 'ST', 'LN', 'CIR', 'CT', 'BLVD', 'BCH', 'ALY', 'SPUR', 'LNDG', 'WALK', 'CRST', 'PL', 'PATH', 'WAY', 'DR'}\n"
     ]
    }
   ],
   "source": [
    "suffixes = set(addresses['identifier'].dropna().unique())\n",
    "print(suffixes)"
   ]
  },
  {
   "cell_type": "markdown",
   "id": "ca4c063a-d3db-4e6c-ada4-b87eeb04e517",
   "metadata": {},
   "source": [
    "Notice that some addresses have an empty suffix field, and the suffix appearing in the street name. These should be fixed manually."
   ]
  },
  {
   "cell_type": "code",
   "execution_count": 3,
   "id": "92a204d5-33c0-4f5a-9d91-a2d5e574bad6",
   "metadata": {
    "tags": []
   },
   "outputs": [
    {
     "data": {
      "text/plain": [
       "array(['STATE HWY 104', 'STATE HWY 308', 'SEA VISTA', 'STATE HWY 303',\n",
       "       'BIG BEEF CROSSING', 'HORIZON LANE WEST', 'HORIZON LANE EAST',\n",
       "       'STATE HWY 3', 'STATE HWY 16', 'STATE HWY 305',\n",
       "       'ANGELINE AVENUE SOUTH', 'THE CEDARS', 'KINGSWAY', 'RHODES END',\n",
       "       'RUE VILLA', 'SOL VEI', 'STAVIS DRIVE EAST', 'STAVIS DRIVE WEST',\n",
       "       'CLARK ISLAND'], dtype=object)"
      ]
     },
     "execution_count": 3,
     "metadata": {},
     "output_type": "execute_result"
    }
   ],
   "source": [
    "missing = addresses['identifier'].isna()\n",
    "misentered = addresses['street_name'][missing].unique()\n",
    "misentered"
   ]
  },
  {
   "cell_type": "code",
   "execution_count": 4,
   "id": "e8d76209-1d44-4b52-ab55-7ec352c30856",
   "metadata": {
    "tags": []
   },
   "outputs": [
    {
     "name": "stdout",
     "output_type": "stream",
     "text": [
      "{'TRL', 'LOOP', 'RUN', 'TER', 'CV', 'RD', 'HWY', 'BLF', 'VIS', 'PKWY', 'VW', 'HL', 'XING', 'AVE', 'ST', 'LN', 'CIR', 'CT', 'BLVD', 'BCH', 'ALY', 'IS', 'SPUR', 'LNDG', 'WALK', 'CRST', 'PL', 'PATH', 'WAY', 'DR'}\n"
     ]
    },
    {
     "name": "stderr",
     "output_type": "stream",
     "text": [
      "C:\\Users\\alden\\AppData\\Local\\Temp\\ipykernel_4124\\1896153597.py:9: UserWarning: Street name \"THE CEDARS\" has no known suffix abbreviation\n",
      "  warnings.warn(f'Street name \"{street}\" has no known suffix abbreviation')\n",
      "C:\\Users\\alden\\AppData\\Local\\Temp\\ipykernel_4124\\1896153597.py:9: UserWarning: Street name \"KINGSWAY\" has no known suffix abbreviation\n",
      "  warnings.warn(f'Street name \"{street}\" has no known suffix abbreviation')\n",
      "C:\\Users\\alden\\AppData\\Local\\Temp\\ipykernel_4124\\1896153597.py:9: UserWarning: Street name \"RHODES END\" has no known suffix abbreviation\n",
      "  warnings.warn(f'Street name \"{street}\" has no known suffix abbreviation')\n",
      "C:\\Users\\alden\\AppData\\Local\\Temp\\ipykernel_4124\\1896153597.py:9: UserWarning: Street name \"RUE VILLA\" has no known suffix abbreviation\n",
      "  warnings.warn(f'Street name \"{street}\" has no known suffix abbreviation')\n",
      "C:\\Users\\alden\\AppData\\Local\\Temp\\ipykernel_4124\\1896153597.py:9: UserWarning: Street name \"SOL VEI\" has no known suffix abbreviation\n",
      "  warnings.warn(f'Street name \"{street}\" has no known suffix abbreviation')\n"
     ]
    }
   ],
   "source": [
    "suffix_corrections = {'HWY':'HWY', 'VISTA':'VIS', 'LANE':'LN', 'CROSSING':'XING', 'AVENUE':'AVE', 'DRIVE':'DR', 'ISLAND':'IS',}\n",
    "\n",
    "for street in misentered:\n",
    "    for name, abbrev in suffix_corrections.items():\n",
    "        if name in street.split():\n",
    "            suffixes.add(abbrev)\n",
    "            break\n",
    "    else:\n",
    "        warnings.warn(f'Street name \"{street}\" has no known suffix abbreviation')\n",
    "        \n",
    "print(suffixes)"
   ]
  },
  {
   "cell_type": "markdown",
   "id": "c6513e75-ca4e-42f8-b2b6-d018e3383c1f",
   "metadata": {},
   "source": [
    "## Getting the standard abbreviations\n",
    "\n",
    "This consists of parsing the table on the USPS website."
   ]
  },
  {
   "cell_type": "code",
   "execution_count": 5,
   "id": "985b7f26-4ee7-4643-8a05-3863d74ae7b0",
   "metadata": {
    "tags": []
   },
   "outputs": [],
   "source": [
    "with open('suffix.htm', 'r') as f:\n",
    "    soup = BeautifulSoup(f)"
   ]
  },
  {
   "cell_type": "code",
   "execution_count": 6,
   "id": "39a0073d-a0bf-456d-b465-add3cc613c98",
   "metadata": {
    "tags": []
   },
   "outputs": [
    {
     "data": {
      "text/plain": [
       "{'ALY': {'name': 'ALLEY', 'other names': {'ALLEE', 'ALLY'}},\n",
       " 'AVE': {'name': 'AVENUE',\n",
       "  'other names': {'AV', 'AVEN', 'AVENU', 'AVN', 'AVNUE'}},\n",
       " 'BCH': {'name': 'BEACH', 'other names': set()},\n",
       " 'BLF': {'name': 'BLUFF', 'other names': {'BLUF'}},\n",
       " 'BLVD': {'name': 'BOULEVARD', 'other names': {'BOUL', 'BOULV'}},\n",
       " 'CIR': {'name': 'CIRCLE', 'other names': {'CIRC', 'CIRCL', 'CRCL', 'CRCLE'}},\n",
       " 'CT': {'name': 'COURT', 'other names': set()},\n",
       " 'CV': {'name': 'COVE', 'other names': set()},\n",
       " 'CRST': {'name': 'CREST', 'other names': set()},\n",
       " 'XING': {'name': 'CROSSING', 'other names': {'CRSSNG'}},\n",
       " 'DR': {'name': 'DRIVE', 'other names': {'DRIV', 'DRV'}},\n",
       " 'HWY': {'name': 'HIGHWAY',\n",
       "  'other names': {'HIGHWY', 'HIWAY', 'HIWY', 'HWAY'}},\n",
       " 'HL': {'name': 'HILL', 'other names': set()},\n",
       " 'IS': {'name': 'ISLAND', 'other names': {'ISLND'}},\n",
       " 'LNDG': {'name': 'LANDING', 'other names': {'LNDNG'}},\n",
       " 'LN': {'name': 'LANE', 'other names': set()},\n",
       " 'LOOP': {'name': 'LOOP', 'other names': {'LOOPS'}},\n",
       " 'PKWY': {'name': 'PARKWAYS', 'other names': {'PKWYS'}},\n",
       " 'PATH': {'name': 'PATH', 'other names': {'PATHS'}},\n",
       " 'PL': {'name': 'PLACE', 'other names': set()},\n",
       " 'RD': {'name': 'ROAD', 'other names': set()},\n",
       " 'RUN': {'name': 'RUN', 'other names': set()},\n",
       " 'SPUR': {'name': 'SPURS', 'other names': set()},\n",
       " 'ST': {'name': 'STREET', 'other names': {'STR', 'STRT'}},\n",
       " 'TER': {'name': 'TERRACE', 'other names': {'TERR'}},\n",
       " 'TRL': {'name': 'TRAIL', 'other names': {'TRAILS', 'TRLS'}},\n",
       " 'VW': {'name': 'VIEW', 'other names': set()},\n",
       " 'VIS': {'name': 'VISTA', 'other names': {'VIST', 'VST', 'VSTA'}},\n",
       " 'WALK': {'name': 'WALKS', 'other names': set()},\n",
       " 'WAY': {'name': 'WAY', 'other names': {'WY'}}}"
      ]
     },
     "execution_count": 6,
     "metadata": {},
     "output_type": "execute_result"
    }
   ],
   "source": [
    "table = soup.find('table', attrs={'class':'Basic_no_title'})\n",
    "rows = table.find_all('tr')\n",
    "\n",
    "abbreviations = {}\n",
    "for row in rows[1:]:\n",
    "    cols = [ele.text.strip() for ele in row.find_all('td')]\n",
    "    if len(cols) == 3:\n",
    "        primary, common, standard = cols\n",
    "        if standard in suffixes:\n",
    "            abbreviations[standard] = {'name':primary, 'other names':set()}\n",
    "    else:\n",
    "        common, = cols\n",
    "    if standard in suffixes and common not in [primary, standard]:\n",
    "        abbreviations[standard]['other names'].add(common)\n",
    "    \n",
    "abbreviations "
   ]
  },
  {
   "cell_type": "markdown",
   "id": "9886a08d-74a3-49ab-aa59-e2ac4ec5540a",
   "metadata": {},
   "source": [
    "## Output the results\n",
    "\n",
    "Since the \"other names\" column includes commas, I will use TSV format. Any spreadsheet software can read it."
   ]
  },
  {
   "cell_type": "code",
   "execution_count": 7,
   "id": "8599334b-d01d-4534-b098-53728d0e0936",
   "metadata": {
    "tags": []
   },
   "outputs": [],
   "source": [
    "with open('kitsap_suffixes.tsv', 'w') as f:\n",
    "    f.write('Suffix\\tStandard abbreviation\\tOther common abbreviations\\n')\n",
    "    for abbrev in sorted(abbreviations):\n",
    "        name = abbreviations[abbrev]['name']\n",
    "        others = ', '.join(x.capitalize() for x in sorted(abbreviations[abbrev]['other names']))\n",
    "        f.write('\\t'.join([name.capitalize(), abbrev.capitalize(), others])+'\\n')"
   ]
  },
  {
   "cell_type": "code",
   "execution_count": null,
   "id": "6070f353-77e3-4394-ba42-e5081d844493",
   "metadata": {},
   "outputs": [],
   "source": []
  }
 ],
 "metadata": {
  "kernelspec": {
   "display_name": "science",
   "language": "python",
   "name": "science"
  },
  "language_info": {
   "codemirror_mode": {
    "name": "ipython",
    "version": 3
   },
   "file_extension": ".py",
   "mimetype": "text/x-python",
   "name": "python",
   "nbconvert_exporter": "python",
   "pygments_lexer": "ipython3",
   "version": "3.11.4"
  }
 },
 "nbformat": 4,
 "nbformat_minor": 5
}
